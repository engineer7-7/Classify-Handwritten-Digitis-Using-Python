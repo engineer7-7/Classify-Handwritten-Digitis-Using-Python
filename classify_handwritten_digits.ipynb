{
 "cells": [
  {
   "metadata": {},
   "cell_type": "markdown",
   "source": "# Load 'mnist' dataset from keras",
   "id": "472e81170d9c94c"
  },
  {
   "cell_type": "code",
   "id": "initial_id",
   "metadata": {
    "collapsed": true,
    "ExecuteTime": {
     "end_time": "2024-11-24T17:08:47.993243Z",
     "start_time": "2024-11-24T17:08:36.945083Z"
    }
   },
   "source": "from keras.src.datasets import mnist",
   "outputs": [],
   "execution_count": 1
  },
  {
   "metadata": {
    "ExecuteTime": {
     "end_time": "2024-11-24T17:25:20.979390Z",
     "start_time": "2024-11-24T17:25:20.707914Z"
    }
   },
   "cell_type": "code",
   "source": [
    "# load mnist dataset\n",
    "(train_images, train_labels), (test_images, test_labels) = mnist.load_data()"
   ],
   "id": "12fa77320a8ac4a",
   "outputs": [],
   "execution_count": 25
  },
  {
   "metadata": {},
   "cell_type": "markdown",
   "source": "# check the shape of the train_images",
   "id": "b48e4ec94855f48b"
  },
  {
   "metadata": {
    "ExecuteTime": {
     "end_time": "2024-11-24T17:25:24.909222Z",
     "start_time": "2024-11-24T17:25:24.899756Z"
    }
   },
   "cell_type": "code",
   "source": "print(f'Shape of train_images: {train_images.shape}')",
   "id": "abb9e4b2cd54dbf8",
   "outputs": [
    {
     "name": "stdout",
     "output_type": "stream",
     "text": [
      "Shape of train_images: (60000, 28, 28)\n"
     ]
    }
   ],
   "execution_count": 26
  },
  {
   "metadata": {},
   "cell_type": "markdown",
   "source": "# build neural network using keras",
   "id": "eec185ad7a218710"
  },
  {
   "metadata": {
    "ExecuteTime": {
     "end_time": "2024-11-24T17:08:49.154708Z",
     "start_time": "2024-11-24T17:08:49.131967Z"
    }
   },
   "cell_type": "code",
   "source": [
    "# import Sequential, Dense\n",
    "from keras.src.models import Sequential\n",
    "from keras.src.layers import Dense\n",
    "\n",
    "# create the neural network model\n",
    "model = Sequential([\n",
    "    Dense(512, activation='relu'),\n",
    "    Dense(10, activation='softmax')\n",
    "]\n",
    ")"
   ],
   "id": "206a93195fc75614",
   "outputs": [],
   "execution_count": 4
  },
  {
   "metadata": {},
   "cell_type": "markdown",
   "source": "# Compilation Step",
   "id": "5d22e9b6b0aacf3b"
  },
  {
   "metadata": {
    "ExecuteTime": {
     "end_time": "2024-11-24T17:08:49.330981Z",
     "start_time": "2024-11-24T17:08:49.171365Z"
    }
   },
   "cell_type": "code",
   "source": [
    "# compile the model\n",
    "model.compile(optimizer='rmsprop', loss='sparse_categorical_crossentropy', metrics=['accuracy'])"
   ],
   "id": "55f1ff0df223a4a4",
   "outputs": [],
   "execution_count": 5
  },
  {
   "metadata": {},
   "cell_type": "markdown",
   "source": "# Preparing the image data",
   "id": "35ef59f3aa874494"
  },
  {
   "metadata": {
    "ExecuteTime": {
     "end_time": "2024-11-24T17:08:49.644499Z",
     "start_time": "2024-11-24T17:08:49.349753Z"
    }
   },
   "cell_type": "code",
   "source": [
    "train_images = train_images.reshape((60000, 28 * 28))\n",
    "train_images = train_images.astype('float32') / 255\n",
    "\n",
    "test_images = test_images.reshape((10000, 28 * 28))\n",
    "test_images = test_images.astype('float32') / 255"
   ],
   "id": "60559e606fde40f4",
   "outputs": [],
   "execution_count": 6
  },
  {
   "metadata": {},
   "cell_type": "markdown",
   "source": "# Fit the model",
   "id": "8915bed48b630ad1"
  },
  {
   "metadata": {
    "ExecuteTime": {
     "end_time": "2024-11-24T17:09:47.832597Z",
     "start_time": "2024-11-24T17:08:49.670349Z"
    }
   },
   "cell_type": "code",
   "source": [
    "model.fit(\n",
    "    train_images, train_labels, epochs=5, batch_size=32\n",
    ")"
   ],
   "id": "5c34fe5d4daee39d",
   "outputs": [
    {
     "name": "stdout",
     "output_type": "stream",
     "text": [
      "Epoch 1/5\n",
      "\u001B[1m1875/1875\u001B[0m \u001B[32m━━━━━━━━━━━━━━━━━━━━\u001B[0m\u001B[37m\u001B[0m \u001B[1m14s\u001B[0m 6ms/step - accuracy: 0.9020 - loss: 0.3327\n",
      "Epoch 2/5\n",
      "\u001B[1m1875/1875\u001B[0m \u001B[32m━━━━━━━━━━━━━━━━━━━━\u001B[0m\u001B[37m\u001B[0m \u001B[1m10s\u001B[0m 6ms/step - accuracy: 0.9732 - loss: 0.0898\n",
      "Epoch 3/5\n",
      "\u001B[1m1875/1875\u001B[0m \u001B[32m━━━━━━━━━━━━━━━━━━━━\u001B[0m\u001B[37m\u001B[0m \u001B[1m12s\u001B[0m 6ms/step - accuracy: 0.9825 - loss: 0.0569\n",
      "Epoch 4/5\n",
      "\u001B[1m1875/1875\u001B[0m \u001B[32m━━━━━━━━━━━━━━━━━━━━\u001B[0m\u001B[37m\u001B[0m \u001B[1m12s\u001B[0m 6ms/step - accuracy: 0.9865 - loss: 0.0409\n",
      "Epoch 5/5\n",
      "\u001B[1m1875/1875\u001B[0m \u001B[32m━━━━━━━━━━━━━━━━━━━━\u001B[0m\u001B[37m\u001B[0m \u001B[1m10s\u001B[0m 5ms/step - accuracy: 0.9896 - loss: 0.0344\n"
     ]
    },
    {
     "data": {
      "text/plain": [
       "<keras.src.callbacks.history.History at 0x23574f87500>"
      ]
     },
     "execution_count": 7,
     "metadata": {},
     "output_type": "execute_result"
    }
   ],
   "execution_count": 7
  },
  {
   "metadata": {},
   "cell_type": "markdown",
   "source": "# Using model to make predictions",
   "id": "df8e5f72dc6a0362"
  },
  {
   "metadata": {
    "ExecuteTime": {
     "end_time": "2024-11-24T17:12:36.546488Z",
     "start_time": "2024-11-24T17:12:36.356576Z"
    }
   },
   "cell_type": "code",
   "source": [
    "test_digits = test_images[0:10]\n",
    "\n",
    "predictions = model.predict(test_digits)"
   ],
   "id": "5a717e8fca864ca5",
   "outputs": [
    {
     "name": "stdout",
     "output_type": "stream",
     "text": [
      "\u001B[1m1/1\u001B[0m \u001B[32m━━━━━━━━━━━━━━━━━━━━\u001B[0m\u001B[37m\u001B[0m \u001B[1m0s\u001B[0m 83ms/step\n"
     ]
    }
   ],
   "execution_count": 11
  },
  {
   "metadata": {
    "ExecuteTime": {
     "end_time": "2024-11-24T17:16:50.508179Z",
     "start_time": "2024-11-24T17:16:50.490120Z"
    }
   },
   "cell_type": "code",
   "source": "print(len(predictions))",
   "id": "8d034c1d94505276",
   "outputs": [
    {
     "name": "stdout",
     "output_type": "stream",
     "text": [
      "10\n"
     ]
    }
   ],
   "execution_count": 16
  },
  {
   "metadata": {
    "ExecuteTime": {
     "end_time": "2024-11-24T17:12:49.618592Z",
     "start_time": "2024-11-24T17:12:49.606444Z"
    }
   },
   "cell_type": "code",
   "source": "predictions[0]",
   "id": "7e628be8998c6be5",
   "outputs": [
    {
     "data": {
      "text/plain": [
       "array([4.5920737e-12, 8.1094467e-14, 3.0108810e-10, 1.2644171e-08,\n",
       "       3.0372755e-17, 2.6364715e-13, 1.7806132e-15, 1.0000000e+00,\n",
       "       1.1853774e-11, 2.6115712e-10], dtype=float32)"
      ]
     },
     "execution_count": 12,
     "metadata": {},
     "output_type": "execute_result"
    }
   ],
   "execution_count": 12
  },
  {
   "metadata": {
    "ExecuteTime": {
     "end_time": "2024-11-24T17:13:46.004375Z",
     "start_time": "2024-11-24T17:13:45.989876Z"
    }
   },
   "cell_type": "code",
   "source": [
    "# higher possibility\n",
    "higher_index = predictions[0].argmax()"
   ],
   "id": "7989bddaa64d802e",
   "outputs": [],
   "execution_count": 14
  },
  {
   "metadata": {
    "ExecuteTime": {
     "end_time": "2024-11-24T17:13:54.499995Z",
     "start_time": "2024-11-24T17:13:54.490498Z"
    }
   },
   "cell_type": "code",
   "source": "predictions[0][higher_index]",
   "id": "491b799e6ae96fbb",
   "outputs": [
    {
     "data": {
      "text/plain": [
       "1.0"
      ]
     },
     "execution_count": 15,
     "metadata": {},
     "output_type": "execute_result"
    }
   ],
   "execution_count": 15
  },
  {
   "metadata": {},
   "cell_type": "markdown",
   "source": "# Evaluating the model on new unseen data",
   "id": "c918def5f01ee693"
  },
  {
   "metadata": {
    "ExecuteTime": {
     "end_time": "2024-11-24T17:18:03.853160Z",
     "start_time": "2024-11-24T17:18:03.273722Z"
    }
   },
   "cell_type": "code",
   "source": "test_loss, test_acc = model.evaluate(test_images, test_labels)",
   "id": "3d64c4d46641ad1",
   "outputs": [
    {
     "name": "stdout",
     "output_type": "stream",
     "text": [
      "\u001B[1m313/313\u001B[0m \u001B[32m━━━━━━━━━━━━━━━━━━━━\u001B[0m\u001B[37m\u001B[0m \u001B[1m0s\u001B[0m 2ms/step - accuracy: 0.9770 - loss: 0.0882\n"
     ]
    }
   ],
   "execution_count": 18
  },
  {
   "metadata": {
    "ExecuteTime": {
     "end_time": "2024-11-24T17:18:23.201082Z",
     "start_time": "2024-11-24T17:18:23.190991Z"
    }
   },
   "cell_type": "code",
   "source": [
    "print(f'Accuracy: {test_acc * 100:.2f}%')\n",
    "print(f'Loss: {test_loss * 100:.2f}%')"
   ],
   "id": "47961d8d0b0d09cb",
   "outputs": [
    {
     "name": "stdout",
     "output_type": "stream",
     "text": [
      "Accuracy: 98.01%\n",
      "Loss: 7.76%\n"
     ]
    }
   ],
   "execution_count": 19
  },
  {
   "metadata": {
    "ExecuteTime": {
     "end_time": "2024-11-24T17:23:17.994567Z",
     "start_time": "2024-11-24T17:23:17.990747Z"
    }
   },
   "cell_type": "code",
   "source": "",
   "id": "c9bb2518f8865cdc",
   "outputs": [],
   "execution_count": null
  }
 ],
 "metadata": {
  "kernelspec": {
   "display_name": "Python 3",
   "language": "python",
   "name": "python3"
  },
  "language_info": {
   "codemirror_mode": {
    "name": "ipython",
    "version": 2
   },
   "file_extension": ".py",
   "mimetype": "text/x-python",
   "name": "python",
   "nbconvert_exporter": "python",
   "pygments_lexer": "ipython2",
   "version": "2.7.6"
  }
 },
 "nbformat": 4,
 "nbformat_minor": 5
}
